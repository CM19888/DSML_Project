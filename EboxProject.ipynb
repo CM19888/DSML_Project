{
 "cells": [
  {
   "cell_type": "markdown",
   "id": "dce372b1-5b21-4860-902f-25a5b8a53f2a",
   "metadata": {
    "tags": []
   },
   "source": [
    "# Ebox Project\n",
    "SWBio Data Science & Machine Learning Assessment."
   ]
  },
  {
   "cell_type": "markdown",
   "id": "94deb1dc-d3a2-4545-87e3-f2eb9ef7f191",
   "metadata": {
    "tags": []
   },
   "source": [
    "## 1. Read in Fasta Files\n",
    "Utilising code from Matt William's Biopython Course (1)."
   ]
  },
  {
   "cell_type": "code",
   "execution_count": 1,
   "id": "4e508b90-1b47-42aa-9c52-1b41d0f5c4e2",
   "metadata": {},
   "outputs": [
    {
     "name": "stdout",
     "output_type": "stream",
     "text": [
      "ID: NC_000077.7:68985934-69000791\n",
      "Name: NC_000077.7:68985934-69000791\n",
      "Description: NC_000077.7:68985934-69000791 Mus musculus strain C57BL/6J chromosome 11, GRCm39\n",
      "Number of features: 0\n",
      "Seq('GAAAATGACTGAGTTCTGAAATGCCAATGGTTGCTTTACAAGGGCTTGCCGGCT...CAA')\n"
     ]
    }
   ],
   "source": [
    "from Bio import SeqIO #import Seq10 module from Biopython package\n",
    "\n",
    "Per1 = SeqIO.read(\"Per1.fasta\", \"fasta\") # Read in fasta file using Seq10.read method\n",
    "print(Per1) #look at Per1 gene SeqRecords"
   ]
  },
  {
   "cell_type": "code",
   "execution_count": 2,
   "id": "a4c4fdf9-d2f2-45b7-b6c7-a21463e629f7",
   "metadata": {},
   "outputs": [
    {
     "name": "stdout",
     "output_type": "stream",
     "text": [
      "GAAAATGACTGAGTTCTGAA\n"
     ]
    }
   ],
   "source": [
    "Per1_seq = Per1.seq #if you want just the sequence from this record\n",
    "print(Per1_seq[0:20]) # print the first 20 nucleotides"
   ]
  },
  {
   "cell_type": "markdown",
   "id": "3f0c01c0-90eb-4418-8b0d-8350679a5ef6",
   "metadata": {},
   "source": [
    "## 2. Search for E-Box element in Gene Sequence"
   ]
  },
  {
   "cell_type": "markdown",
   "id": "f00bb6e6-e71d-469d-b828-aa3f69bf4f8e",
   "metadata": {
    "tags": []
   },
   "source": [
    "### 2.1 Count the eboxes (or lack of eboxes!)\n",
    "Using Biopython count method to search for subsequences within a sequence. It returns the number of times the subsequence is found."
   ]
  },
  {
   "cell_type": "code",
   "execution_count": 3,
   "id": "83a889dc-4036-4f00-adcb-9ada59d8ae07",
   "metadata": {},
   "outputs": [
    {
     "data": {
      "text/plain": [
       "4"
      ]
     },
     "execution_count": 3,
     "metadata": {},
     "output_type": "execute_result"
    }
   ],
   "source": [
    "Per1_seq.count(\"CACGTG\") # Look for ebox sequence (CACGTG) in Per1 gene sequence"
   ]
  },
  {
   "cell_type": "markdown",
   "id": "e85e9051-6ac1-4b6a-9854-fe5e1c0276e1",
   "metadata": {
    "tags": []
   },
   "source": [
    "### 2.2 Create a ebox counter function:"
   ]
  },
  {
   "cell_type": "code",
   "execution_count": 4,
   "id": "07684b2f-8d9b-4355-b154-3a423d0b81cb",
   "metadata": {},
   "outputs": [],
   "source": [
    "# Create function requiring an argument (the fasta filename of the gene of interest)\n",
    "def eboxcounter(filename): \n",
    "    gene = SeqIO.read(filename, \"fasta\") # read in file using seq10 module\n",
    "    n = gene.seq.count(\"CACGTG\") #count number of canonical eboxes present\n",
    "    \n",
    "    return n"
   ]
  },
  {
   "cell_type": "code",
   "execution_count": 5,
   "id": "593c6056-4175-472f-b34b-b128cf9d8d43",
   "metadata": {},
   "outputs": [
    {
     "name": "stdout",
     "output_type": "stream",
     "text": [
      "The number of eboxes in this gene is: 4\n"
     ]
    }
   ],
   "source": [
    "x = eboxcounter(\"Per1.fasta\") # put gene of interest filename here\n",
    "\n",
    "print(\"The number of eboxes in this gene is:\", x) # print out the number of eboxes in that gene"
   ]
  },
  {
   "cell_type": "markdown",
   "id": "412eb441-dffb-40ce-8822-108f690680bd",
   "metadata": {
    "tags": []
   },
   "source": [
    "### 2.3 What is the position of these eboxes?"
   ]
  },
  {
   "cell_type": "code",
   "execution_count": 6,
   "id": "cc58fd2b-1a0b-4b8f-a65f-9666ea5751c9",
   "metadata": {},
   "outputs": [
    {
     "name": "stdout",
     "output_type": "stream",
     "text": [
      "['CACGTG', 2566, 3312, 3675, 5855]\n"
     ]
    }
   ],
   "source": [
    "# Utilising nt_search() function \n",
    "import Bio.SeqUtils #import relevant package\n",
    "ebox = \"CACGTG\"\n",
    "\n",
    "x = Bio.SeqUtils.nt_search(str(Per1_seq), ebox) \n",
    "print(x) # Note this gives the position with python 0-indexing"
   ]
  },
  {
   "cell_type": "code",
   "execution_count": 7,
   "id": "1b0c1120-e995-4570-895a-a472a000033e",
   "metadata": {},
   "outputs": [
    {
     "name": "stdout",
     "output_type": "stream",
     "text": [
      "CACGTG\n"
     ]
    }
   ],
   "source": [
    "print(Per1_seq[2566:2572]) # lets check how this did!"
   ]
  },
  {
   "cell_type": "markdown",
   "id": "e4b33bf3-8a9c-4a75-a253-a6edf25926e6",
   "metadata": {},
   "source": [
    "Alternatively, to get around python 0-indexing you can use Lana Caldarevic's find motif code (2)."
   ]
  },
  {
   "cell_type": "code",
   "execution_count": 8,
   "id": "9eeff4b5-45df-4b62-94d0-048f1b93a27c",
   "metadata": {},
   "outputs": [
    {
     "name": "stdout",
     "output_type": "stream",
     "text": [
      "2567\n",
      "3313\n",
      "3676\n",
      "5856\n"
     ]
    }
   ],
   "source": [
    "# For loop running through the sequence one nucleotide at a time from start to finish\n",
    "# looking for a position in the sequence that starts with CACGTG\n",
    "\n",
    "s = Per1_seq # input gene of interest here\n",
    "ebox = \"CACGTG\"\n",
    "\n",
    "for position in range(len(s)): #range() function + len() function = number range the length of the string\n",
    "    if s[position:].startswith(ebox): \n",
    "        print(position+1) # add 1 due to 0-based indexing "
   ]
  },
  {
   "cell_type": "markdown",
   "id": "20d46aa8-bee4-4a2f-a4d1-fa278a6683ee",
   "metadata": {},
   "source": [
    "### 2.4 Create a ebox position function:"
   ]
  },
  {
   "cell_type": "code",
   "execution_count": 9,
   "id": "cfd13107-f671-4d93-ad42-399f47c172e9",
   "metadata": {},
   "outputs": [],
   "source": [
    "# Create function requiring an argument (the fasta filename of the gene of interest)\n",
    "def eboxposition(filename): \n",
    "    gene = SeqIO.read(filename, \"fasta\") # read in file using seq10 module\n",
    "    s = gene.seq\n",
    "    ebox = \"CACGTG\"\n",
    "    x = Bio.SeqUtils.nt_search(str(s), ebox) \n",
    "    return x"
   ]
  },
  {
   "cell_type": "code",
   "execution_count": 10,
   "id": "18a1b7c2-c56e-440c-9402-06b77a6134ca",
   "metadata": {},
   "outputs": [
    {
     "data": {
      "text/plain": [
       "['CACGTG', 2566, 3312, 3675, 5855]"
      ]
     },
     "execution_count": 10,
     "metadata": {},
     "output_type": "execute_result"
    }
   ],
   "source": [
    "eboxposition(\"Per1.fasta\") # put gene of interest filename here"
   ]
  },
  {
   "cell_type": "markdown",
   "id": "02c382ee-5090-40a8-a608-6a9c65b4e313",
   "metadata": {},
   "source": [
    "## 3. Research Questions\n",
    "* Eboxes can be found in both intronic and promoter regions of a gene. You should find more eboxes if you include the promoter region of the Per1 gene, do you?\n",
    "* Per1 is well-known example of a clock controlled gene. Try looking at some other genes?\n",
    "* What if eboxes don't always look like that?"
   ]
  },
  {
   "cell_type": "markdown",
   "id": "67ed9567-8421-4f1d-97b8-a0360b93dc74",
   "metadata": {},
   "source": [
    "### 3.1 Compare number of eboxes when Per1 gene file includes promoter region"
   ]
  },
  {
   "cell_type": "code",
   "execution_count": 11,
   "id": "b2fee683-028e-41d5-97a0-9036b9b96183",
   "metadata": {},
   "outputs": [
    {
     "name": "stdout",
     "output_type": "stream",
     "text": [
      "4\n",
      "6\n"
     ]
    }
   ],
   "source": [
    "filelist = [\"Per1.fasta\", \"Per1wProm.fasta\"]\n",
    "\n",
    "for file in filelist: #for loop to go through list of genes of interest\n",
    "    x = eboxcounter(file) #use eboxcounter() function \n",
    "    print(x)"
   ]
  },
  {
   "cell_type": "markdown",
   "id": "068f98d2-1cf9-4cc0-9a97-f3b579e7722b",
   "metadata": {},
   "source": [
    "### 3.2 Looking at some other genes..."
   ]
  },
  {
   "cell_type": "code",
   "execution_count": 12,
   "id": "867eabba-5e5c-400a-8b7c-dcd02707506c",
   "metadata": {},
   "outputs": [
    {
     "name": "stdout",
     "output_type": "stream",
     "text": [
      "[4, 6, 0, 0, 0, 0, 4, 4]\n"
     ]
    }
   ],
   "source": [
    "filelist = [\"Per1.fasta\", \"Per1wProm.fasta\", \"Nnat.fasta\", \"NnatwProm.fasta\", \"Penk.fasta\", \"PenkwProm.fasta\", \"Vgf.fasta\", \"VgfwProm.fasta\"] #list of genes of interest\n",
    "\n",
    "values = [] #empty list to put ebox counts into\n",
    "\n",
    "for file in filelist: #for loop to run through file list\n",
    "    x = eboxcounter(file) #use eboxcounter function\n",
    "    values.append(x) #add them to values list\n",
    "\n",
    "print(values) #see values... but they're not easy to intepret on their own"
   ]
  },
  {
   "cell_type": "markdown",
   "id": "fb55fcd2-0df1-4d65-a03c-d17c3f1dba56",
   "metadata": {},
   "source": [
    "Make this into a dictionary..."
   ]
  },
  {
   "cell_type": "code",
   "execution_count": 17,
   "id": "1cc61811-0a2e-438c-8235-255d9d32275b",
   "metadata": {},
   "outputs": [
    {
     "name": "stdout",
     "output_type": "stream",
     "text": [
      "{'Per1.fasta': 4, 'Per1wProm.fasta': 6, 'Nnat.fasta': 0, 'NnatwProm.fasta': 0, 'Penk.fasta': 0, 'PenkwProm.fasta': 0, 'Vgf.fasta': 4, 'VgfwProm.fasta': 4}\n"
     ]
    }
   ],
   "source": [
    "# Combine filelist and values using the zip() and dict() functions to create a dictionary\n",
    "# Code from Stack Overflow (3)\n",
    "eboxdict = dict(zip(filelist, values)) \n",
    "\n",
    "print(eboxdict) #now values are next to their respective filenames"
   ]
  },
  {
   "cell_type": "code",
   "execution_count": 18,
   "id": "f0c8a693-b6fd-45fd-a38b-2d3bfaa1bec3",
   "metadata": {},
   "outputs": [
    {
     "name": "stdout",
     "output_type": "stream",
     "text": [
      "4\n"
     ]
    }
   ],
   "source": [
    "# Use the dictionary to pull out ebox counts for specific gene e.g. Vgf\n",
    "VgfEboxes = eboxdict[\"Vgf.fasta\"]\n",
    "print(VgfEboxes)"
   ]
  },
  {
   "cell_type": "markdown",
   "id": "ba051d4e-1d13-4e40-8316-8a23569321f1",
   "metadata": {},
   "source": [
    "### 3.3 To look for imperfect ebox could use ntsearch() with N..."
   ]
  },
  {
   "cell_type": "code",
   "execution_count": 23,
   "id": "270bcb96-7682-4608-a0ef-6294338f62e8",
   "metadata": {},
   "outputs": [
    {
     "name": "stdout",
     "output_type": "stream",
     "text": [
      "['CAC[GATC]TG', 532, 2566, 2630, 3219, 3312, 3675, 4703, 5855, 6743, 10530, 11054, 11237, 11468]\n"
     ]
    }
   ],
   "source": [
    "# Utilising nt_search() function \n",
    "import Bio.SeqUtils #import relevant package\n",
    "eboxISH = \"CACNTG\" #use \"N\" to signify any nucleotide could be present in that position\n",
    "\n",
    "x = Bio.SeqUtils.nt_search(str(Per1_seq), eboxISH) \n",
    "print(x) # Note this gives the position with python 0-indexing"
   ]
  },
  {
   "cell_type": "code",
   "execution_count": 24,
   "id": "a5d7f8c3-55b0-4be9-900d-1018a366373e",
   "metadata": {},
   "outputs": [
    {
     "data": {
      "text/plain": [
       "Seq('CACTTG')"
      ]
     },
     "execution_count": 24,
     "metadata": {},
     "output_type": "execute_result"
    }
   ],
   "source": [
    "Per1_seq[532: 538] #lets have a look"
   ]
  },
  {
   "cell_type": "markdown",
   "id": "fc686e4f-fdd5-4762-878c-92d312039503",
   "metadata": {},
   "source": [
    "## 4. References"
   ]
  },
  {
   "cell_type": "markdown",
   "id": "a4819dda-1150-45dc-acd8-b71bfdee2bb4",
   "metadata": {
    "tags": []
   },
   "source": [
    "1. Williams, M (n.d.) Biopython Course: SeqRecord objects [Source code]. https://milliams.com/courses/biopython/Input%20and%20Output.html\n",
    "2. Caldarevic, L (2021) Find Motif [Source code]. https://github.com/0038lana/rosalind/blob/main/motif_dna/find_motif.ipynb\n",
    "3. Hall, A (2015) Stack Overflow: How do I convert two lists into a dictionary? [Source code] https://stackoverflow.com/questions/209840/how-do-i-convert-two-lists-into-a-dictionary"
   ]
  }
 ],
 "metadata": {
  "kernelspec": {
   "display_name": "Python 3 (ipykernel)",
   "language": "python",
   "name": "python3"
  },
  "language_info": {
   "codemirror_mode": {
    "name": "ipython",
    "version": 3
   },
   "file_extension": ".py",
   "mimetype": "text/x-python",
   "name": "python",
   "nbconvert_exporter": "python",
   "pygments_lexer": "ipython3",
   "version": "3.8.12"
  }
 },
 "nbformat": 4,
 "nbformat_minor": 5
}
