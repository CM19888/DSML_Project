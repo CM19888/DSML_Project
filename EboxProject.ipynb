{
 "cells": [
  {
   "cell_type": "markdown",
   "id": "dce372b1-5b21-4860-902f-25a5b8a53f2a",
   "metadata": {
    "tags": []
   },
   "source": [
    "# E-box project\n",
    "SWBio Data Science & Machine Learning Assessment."
   ]
  },
  {
   "cell_type": "markdown",
   "id": "94deb1dc-d3a2-4545-87e3-f2eb9ef7f191",
   "metadata": {
    "tags": []
   },
   "source": [
    "## 1. Read in fasta files\n",
    "Utilising code from Matt William's Biopython Course (1)."
   ]
  },
  {
   "cell_type": "code",
   "execution_count": 1,
   "id": "4e508b90-1b47-42aa-9c52-1b41d0f5c4e2",
   "metadata": {},
   "outputs": [
    {
     "name": "stdout",
     "output_type": "stream",
     "text": [
      "ID: NC_000077.7:68985934-69000791\n",
      "Name: NC_000077.7:68985934-69000791\n",
      "Description: NC_000077.7:68985934-69000791 Mus musculus strain C57BL/6J chromosome 11, GRCm39\n",
      "Number of features: 0\n",
      "Seq('GAAAATGACTGAGTTCTGAAATGCCAATGGTTGCTTTACAAGGGCTTGCCGGCT...CAA')\n"
     ]
    }
   ],
   "source": [
    "from Bio import SeqIO # Import Seq10 package from Biopython\n",
    "\n",
    "Per1 = SeqIO.read(\"Per1.fasta\", \"fasta\") # Read in fasta file using Seq10.read() method\n",
    "print(Per1) # Look at Per1 gene's SeqRecords"
   ]
  },
  {
   "cell_type": "code",
   "execution_count": 2,
   "id": "a4c4fdf9-d2f2-45b7-b6c7-a21463e629f7",
   "metadata": {},
   "outputs": [
    {
     "name": "stdout",
     "output_type": "stream",
     "text": [
      "GAAAATGACTGAGTTCTGAA\n"
     ]
    }
   ],
   "source": [
    "Per1_seq = Per1.seq # If you want just the sequence from this record use .seq\n",
    "print(Per1_seq[0:20]) # Lets check that worked & print the first 20 nucleotides"
   ]
  },
  {
   "cell_type": "markdown",
   "id": "3f0c01c0-90eb-4418-8b0d-8350679a5ef6",
   "metadata": {},
   "source": [
    "## 2. Search for an E-Box element in a gene sequence"
   ]
  },
  {
   "cell_type": "markdown",
   "id": "f00bb6e6-e71d-469d-b828-aa3f69bf4f8e",
   "metadata": {
    "tags": []
   },
   "source": [
    "### 2.1 Count the number of E-boxes (or lack of E-boxes!)\n",
    "Use the Biopython count() method to search for subsequences within a sequence. This method returns the number of times a subsequence is found. The following code will use mouse Per1 gene as an example."
   ]
  },
  {
   "cell_type": "code",
   "execution_count": 3,
   "id": "83a889dc-4036-4f00-adcb-9ada59d8ae07",
   "metadata": {},
   "outputs": [
    {
     "data": {
      "text/plain": [
       "4"
      ]
     },
     "execution_count": 3,
     "metadata": {},
     "output_type": "execute_result"
    }
   ],
   "source": [
    "Per1_seq.count(\"CACGTG\") # Look for ebox sequence (CACGTG) in Per1 gene sequence"
   ]
  },
  {
   "cell_type": "markdown",
   "id": "e85e9051-6ac1-4b6a-9854-fe5e1c0276e1",
   "metadata": {
    "tags": []
   },
   "source": [
    "### 2.2 Create an E-box counter function\n",
    "Create a function that can take the name of any fasta file (in the depository) as an argument and return the number of E-boxes within that sequence."
   ]
  },
  {
   "cell_type": "code",
   "execution_count": 4,
   "id": "07684b2f-8d9b-4355-b154-3a423d0b81cb",
   "metadata": {},
   "outputs": [],
   "source": [
    "# Create a function requiring an argument (the fasta filename of the gene of interest)\n",
    "def eboxcounter(filename): \n",
    "    gene = SeqIO.read(filename, \"fasta\") # Read in file using seq10.read() method\n",
    "    n = gene.seq.count(\"CACGTG\") # Count number of canonical eboxes present using seq.count()\n",
    "    \n",
    "    return n # Use return rather than print in order to use than number in further code"
   ]
  },
  {
   "cell_type": "code",
   "execution_count": 5,
   "id": "593c6056-4175-472f-b34b-b128cf9d8d43",
   "metadata": {},
   "outputs": [
    {
     "name": "stdout",
     "output_type": "stream",
     "text": [
      "The number of eboxes in this gene is: 4\n"
     ]
    }
   ],
   "source": [
    "x = eboxcounter(\"Per1.fasta\") # Put gene of interest filename here\n",
    "\n",
    "if x >= 1: # If number of eboxes found is more than or equal to one...\n",
    "    print(\"The number of eboxes in this gene is:\", x) # print out the number of eboxes in that gene\n",
    "else: \n",
    "    print(\"No eboxes found in this sequence\") # else print that there no eboxes found"
   ]
  },
  {
   "cell_type": "markdown",
   "id": "412eb441-dffb-40ce-8822-108f690680bd",
   "metadata": {
    "tags": []
   },
   "source": [
    "### 2.3 If present, what are the positions of these E-boxes?\n",
    "Using the ntsearch() function determine the positions within the sequence in which the eboxes are present. \n",
    "\n",
    "Note\n",
    "* This function returns the position of the first nucleotide within the sequence e.g. for \"CACGTG\" the \"C\"\n",
    "* It requires the sequences to be in a string data type\n",
    "* The position values returned use 0-based indexing "
   ]
  },
  {
   "cell_type": "code",
   "execution_count": 6,
   "id": "cc58fd2b-1a0b-4b8f-a65f-9666ea5751c9",
   "metadata": {},
   "outputs": [
    {
     "name": "stdout",
     "output_type": "stream",
     "text": [
      "['CACGTG', 2566, 3312, 3675, 5855]\n"
     ]
    }
   ],
   "source": [
    "# Utilising nt_search() function which takes the arguments (sequence, subsequence)\n",
    "import Bio.SeqUtils # Import relevant package\n",
    "ebox = \"CACGTG\" # Subsequence searching for\n",
    "\n",
    "x = Bio.SeqUtils.nt_search(str(Per1_seq), ebox) \n",
    "print(x) # Print the positions"
   ]
  },
  {
   "cell_type": "code",
   "execution_count": 7,
   "id": "1b0c1120-e995-4570-895a-a472a000033e",
   "metadata": {},
   "outputs": [
    {
     "name": "stdout",
     "output_type": "stream",
     "text": [
      "CACGTG\n"
     ]
    }
   ],
   "source": [
    "print(Per1_seq[2566:2572]) # Lets check how this did!"
   ]
  },
  {
   "cell_type": "markdown",
   "id": "e4b33bf3-8a9c-4a75-a253-a6edf25926e6",
   "metadata": {},
   "source": [
    "Alternatively, to get around python 0-indexing you can adapt Lana Caldarevic's find motif code (2). This uses a for loop to run through the sequence one nucleotide at a time looking for a position in the sequence that starts with \"CACGTG\". "
   ]
  },
  {
   "cell_type": "code",
   "execution_count": 8,
   "id": "9eeff4b5-45df-4b62-94d0-048f1b93a27c",
   "metadata": {},
   "outputs": [
    {
     "name": "stdout",
     "output_type": "stream",
     "text": [
      "2567\n",
      "3313\n",
      "3676\n",
      "5856\n"
     ]
    }
   ],
   "source": [
    "s = Per1_seq # Input gene of interest here\n",
    "ebox = \"CACGTG\" # Searching for\n",
    "\n",
    "for position in range(len(s)): # range() function + len() function = a number range the length of the string\n",
    "    if s[position:].startswith(ebox): # Does that position start with \"CACGTG\"? \n",
    "        print(position+1) # If so print and add 1 (due to 0-based indexing)"
   ]
  },
  {
   "cell_type": "markdown",
   "id": "20d46aa8-bee4-4a2f-a4d1-fa278a6683ee",
   "metadata": {
    "tags": []
   },
   "source": [
    "### 2.4 Create an E-box position function\n",
    "Create a function taking  a fasta file name as an argument and returning the position of any E-boxes present."
   ]
  },
  {
   "cell_type": "code",
   "execution_count": 9,
   "id": "cfd13107-f671-4d93-ad42-399f47c172e9",
   "metadata": {},
   "outputs": [],
   "source": [
    "# Create function requiring an argument (the fasta filename of the gene of interest)\n",
    "def eboxposition(filename): \n",
    "    gene = SeqIO.read(filename, \"fasta\") # Read in file using seq10\n",
    "    s = gene.seq # Take the sequence of that file\n",
    "    ebox = \"CACGTG\"\n",
    "    x = Bio.SeqUtils.nt_search(str(s), ebox)  # Search sequence for ebox\n",
    "    return x"
   ]
  },
  {
   "cell_type": "code",
   "execution_count": 10,
   "id": "18a1b7c2-c56e-440c-9402-06b77a6134ca",
   "metadata": {},
   "outputs": [
    {
     "data": {
      "text/plain": [
       "['CACGTG', 2566, 3312, 3675, 5855]"
      ]
     },
     "execution_count": 10,
     "metadata": {},
     "output_type": "execute_result"
    }
   ],
   "source": [
    "eboxposition(\"Per1.fasta\") # Put gene of interest filename here"
   ]
  },
  {
   "cell_type": "markdown",
   "id": "02c382ee-5090-40a8-a608-6a9c65b4e313",
   "metadata": {},
   "source": [
    "## 3. Research Questions\n",
    "* E-boxes can be found in both intronic and promoter regions of a gene. Do you find more E-boxes if you include the promoter region of the Per1 gene?\n",
    "* So far only Per1 gene has been looked at, what about some other genes?\n",
    "* What if E-boxes don't always look like that?"
   ]
  },
  {
   "cell_type": "markdown",
   "id": "67ed9567-8421-4f1d-97b8-a0360b93dc74",
   "metadata": {
    "tags": []
   },
   "source": [
    "### 3.1 Compare number of E-boxes when Per1 gene file includes its promoter region"
   ]
  },
  {
   "cell_type": "code",
   "execution_count": 11,
   "id": "b2fee683-028e-41d5-97a0-9036b9b96183",
   "metadata": {},
   "outputs": [
    {
     "name": "stdout",
     "output_type": "stream",
     "text": [
      "4\n",
      "6\n"
     ]
    }
   ],
   "source": [
    "filelist = [\"Per1.fasta\", \"Per1wProm.fasta\"]\n",
    "\n",
    "for file in filelist: #for loop to go through list of genes of interest\n",
    "    x = eboxcounter(file) #use eboxcounter() function \n",
    "    print(x)"
   ]
  },
  {
   "cell_type": "markdown",
   "id": "068f98d2-1cf9-4cc0-9a97-f3b579e7722b",
   "metadata": {
    "tags": []
   },
   "source": [
    "### 3.2 Look at some other genes"
   ]
  },
  {
   "cell_type": "code",
   "execution_count": 12,
   "id": "867eabba-5e5c-400a-8b7c-dcd02707506c",
   "metadata": {},
   "outputs": [
    {
     "name": "stdout",
     "output_type": "stream",
     "text": [
      "[4, 6, 0, 0, 0, 0, 4, 4]\n"
     ]
    }
   ],
   "source": [
    "filelist = [\"Per1.fasta\", \"Per1wProm.fasta\", \"Nnat.fasta\", \"NnatwProm.fasta\", \"Penk.fasta\", \"PenkwProm.fasta\", \"Vgf.fasta\", \"VgfwProm.fasta\"] #list of genes of interest\n",
    "\n",
    "values = [] #empty list to put ebox counts into\n",
    "\n",
    "for file in filelist: #for loop to run through file list\n",
    "    x = eboxcounter(file) #use eboxcounter function\n",
    "    values.append(x) #add them to values list\n",
    "\n",
    "print(values) #see values... but they're not easy to intepret on their own"
   ]
  },
  {
   "cell_type": "markdown",
   "id": "fb55fcd2-0df1-4d65-a03c-d17c3f1dba56",
   "metadata": {},
   "source": [
    "#### Make this into a dictionary:\n",
    "The printed list of E-box values above is not easy to interpet alone (without their respective sequences their related to). So to make this easier and to allow for single genes to be picked out a dictionary can be used."
   ]
  },
  {
   "cell_type": "code",
   "execution_count": 19,
   "id": "1cc61811-0a2e-438c-8235-255d9d32275b",
   "metadata": {},
   "outputs": [
    {
     "name": "stdout",
     "output_type": "stream",
     "text": [
      "{'Per1.fasta': 4, 'Per1wProm.fasta': 6, 'Nnat.fasta': 0, 'NnatwProm.fasta': 0, 'Penk.fasta': 0, 'PenkwProm.fasta': 0, 'Vgf.fasta': 4, 'VgfwProm.fasta': 4}\n"
     ]
    }
   ],
   "source": [
    "# Combine filelist and values using the zip() and dict() functions to create a dictionary\n",
    "# Adapted code from Stack Overflow (3)\n",
    "eboxdict = dict(zip(filelist, values)) \n",
    "\n",
    "print(eboxdict) #now values are next to their respective filenames"
   ]
  },
  {
   "cell_type": "code",
   "execution_count": 14,
   "id": "f0c8a693-b6fd-45fd-a38b-2d3bfaa1bec3",
   "metadata": {},
   "outputs": [
    {
     "name": "stdout",
     "output_type": "stream",
     "text": [
      "4\n"
     ]
    }
   ],
   "source": [
    "# Use the dictionary to pull out ebox counts for specific gene e.g. Vgf\n",
    "VgfEboxes = eboxdict[\"Vgf.fasta\"]\n",
    "print(VgfEboxes)"
   ]
  },
  {
   "cell_type": "markdown",
   "id": "90d3e8a7-3529-4d65-9741-13c6e1fa5c9f",
   "metadata": {},
   "source": [
    "#### Alternatively make a dataframe:\n",
    "To look at the data visually a dataframe may be more appropriate data storage."
   ]
  },
  {
   "cell_type": "code",
   "execution_count": 15,
   "id": "228e6315-4128-4112-bd50-710d4c82d417",
   "metadata": {},
   "outputs": [
    {
     "data": {
      "text/html": [
       "<div>\n",
       "<style scoped>\n",
       "    .dataframe tbody tr th:only-of-type {\n",
       "        vertical-align: middle;\n",
       "    }\n",
       "\n",
       "    .dataframe tbody tr th {\n",
       "        vertical-align: top;\n",
       "    }\n",
       "\n",
       "    .dataframe thead th {\n",
       "        text-align: right;\n",
       "    }\n",
       "</style>\n",
       "<table border=\"1\" class=\"dataframe\">\n",
       "  <thead>\n",
       "    <tr style=\"text-align: right;\">\n",
       "      <th></th>\n",
       "      <th>Filename</th>\n",
       "      <th>Ebox Count</th>\n",
       "    </tr>\n",
       "  </thead>\n",
       "  <tbody>\n",
       "    <tr>\n",
       "      <th>0</th>\n",
       "      <td>Per1.fasta</td>\n",
       "      <td>4</td>\n",
       "    </tr>\n",
       "    <tr>\n",
       "      <th>1</th>\n",
       "      <td>Per1wProm.fasta</td>\n",
       "      <td>6</td>\n",
       "    </tr>\n",
       "    <tr>\n",
       "      <th>2</th>\n",
       "      <td>Nnat.fasta</td>\n",
       "      <td>0</td>\n",
       "    </tr>\n",
       "    <tr>\n",
       "      <th>3</th>\n",
       "      <td>NnatwProm.fasta</td>\n",
       "      <td>0</td>\n",
       "    </tr>\n",
       "    <tr>\n",
       "      <th>4</th>\n",
       "      <td>Penk.fasta</td>\n",
       "      <td>0</td>\n",
       "    </tr>\n",
       "    <tr>\n",
       "      <th>5</th>\n",
       "      <td>PenkwProm.fasta</td>\n",
       "      <td>0</td>\n",
       "    </tr>\n",
       "    <tr>\n",
       "      <th>6</th>\n",
       "      <td>Vgf.fasta</td>\n",
       "      <td>4</td>\n",
       "    </tr>\n",
       "    <tr>\n",
       "      <th>7</th>\n",
       "      <td>VgfwProm.fasta</td>\n",
       "      <td>4</td>\n",
       "    </tr>\n",
       "  </tbody>\n",
       "</table>\n",
       "</div>"
      ],
      "text/plain": [
       "          Filename  Ebox Count\n",
       "0       Per1.fasta           4\n",
       "1  Per1wProm.fasta           6\n",
       "2       Nnat.fasta           0\n",
       "3  NnatwProm.fasta           0\n",
       "4       Penk.fasta           0\n",
       "5  PenkwProm.fasta           0\n",
       "6        Vgf.fasta           4\n",
       "7   VgfwProm.fasta           4"
      ]
     },
     "execution_count": 15,
     "metadata": {},
     "output_type": "execute_result"
    }
   ],
   "source": [
    "import pandas as pd # Import pandas package\n",
    "\n",
    "# Adapted code from Stack Overflow (4)\n",
    "# It creates a list of tuples from the two lists via list(zip()), and uses this to create a dataframe\n",
    "df = pd.DataFrame(list(zip(filelist,values)), columns=['Filename','Ebox Count'])\n",
    "df"
   ]
  },
  {
   "cell_type": "markdown",
   "id": "50037b33-21dd-4f40-aa2d-1b41612920a5",
   "metadata": {},
   "source": [
    "Plot the results on a horizontal bar plot:"
   ]
  },
  {
   "cell_type": "code",
   "execution_count": 46,
   "id": "86f2ea03-6e7c-4cd1-950c-56d4f50cd323",
   "metadata": {},
   "outputs": [
    {
     "data": {
      "image/png": "[encoded data removed]",
      "text/plain": [
       "<Figure size 432x288 with 1 Axes>"
      ]
     },
     "metadata": {},
     "output_type": "display_data"
    }
   ],
   "source": [
    "import matplotlib.pyplot as plt # Import matplotlib\n",
    "import seaborn as sns # Import seaborn\n",
    "sns.set_theme(style=\"whitegrid\")\n",
    "ax = sns.barplot(x=\"Ebox Count\", y=\"Filename\", data=df, palette=\"Blues_d\") #Create horizontal barplot with a blue palette\n",
    "plt.ylabel('File Names', fontweight = 'bold') # set label for Y axis and make it bold\n",
    "plt.xlabel('E-box Counts', fontweight = 'bold') #set label for X axis and make it bold\n",
    "plt.tight_layout() # Ensure it all fits on the plot\n",
    "plt.savefig('eboxplot.png', pad_inches=1) # Save the figure as a png image file"
   ]
  },
  {
   "cell_type": "markdown",
   "id": "ba051d4e-1d13-4e40-8316-8a23569321f1",
   "metadata": {
    "tags": []
   },
   "source": [
    "### 3.3 To look for imperfect ebox could use ntsearch() with N...\n",
    "The ntsearch() method allows for the use of 'N' to signify an 'A' or 'T' or 'C' or 'G'. "
   ]
  },
  {
   "cell_type": "code",
   "execution_count": 17,
   "id": "270bcb96-7682-4608-a0ef-6294338f62e8",
   "metadata": {},
   "outputs": [
    {
     "name": "stdout",
     "output_type": "stream",
     "text": [
      "['CAC[GATC]TG', 532, 2566, 2630, 3219, 3312, 3675, 4703, 5855, 6743, 10530, 11054, 11237, 11468]\n"
     ]
    }
   ],
   "source": [
    "import Bio.SeqUtils # Import relevant package\n",
    "eboxISH = \"CACNTG\" # Use \"N\" to signify any nucleotide could be present in that position\n",
    "\n",
    "x = Bio.SeqUtils.nt_search(str(Per1_seq), eboxISH) \n",
    "print(x) # Note this gives the position with python 0-indexing"
   ]
  },
  {
   "cell_type": "code",
   "execution_count": 18,
   "id": "a5d7f8c3-55b0-4be9-900d-1018a366373e",
   "metadata": {},
   "outputs": [
    {
     "data": {
      "text/plain": [
       "Seq('CACTTG')"
      ]
     },
     "execution_count": 18,
     "metadata": {},
     "output_type": "execute_result"
    }
   ],
   "source": [
    "Per1_seq[532: 538] # Lets have a look"
   ]
  },
  {
   "cell_type": "markdown",
   "id": "fc686e4f-fdd5-4762-878c-92d312039503",
   "metadata": {
    "tags": []
   },
   "source": [
    "## 4. References"
   ]
  },
  {
   "cell_type": "markdown",
   "id": "a4819dda-1150-45dc-acd8-b71bfdee2bb4",
   "metadata": {
    "tags": []
   },
   "source": [
    "1. Williams, M (n.d.) Biopython Course: SeqRecord objects [Source code]. https://milliams.com/courses/biopython/Input%20and%20Output.html\n",
    "2. Caldarevic, L (2021) Find Motif [Source code]. https://github.com/0038lana/rosalind/blob/main/motif_dna/find_motif.ipynb\n",
    "3. Hall, A (2015) Stack Overflow: How do I convert two lists into a dictionary? [Source code] https://stackoverflow.com/questions/209840/how-do-i-convert-two-lists-into-a-dictionary\n",
    "4. Gupta, A (2017) Stack Overflow: Take multiple lists into dataframe [Source code] https://stackoverflow.com/questions/30522724/take-multiple-lists-into-dataframe"
   ]
  }
 ],
 "metadata": {
  "kernelspec": {
   "display_name": "Python 3 (ipykernel)",
   "language": "python",
   "name": "python3"
  },
  "language_info": {
   "codemirror_mode": {
    "name": "ipython",
    "version": 3
   },
   "file_extension": ".py",
   "mimetype": "text/x-python",
   "name": "python",
   "nbconvert_exporter": "python",
   "pygments_lexer": "ipython3",
   "version": "3.8.12"
  }
 },
 "nbformat": 4,
 "nbformat_minor": 5
}
